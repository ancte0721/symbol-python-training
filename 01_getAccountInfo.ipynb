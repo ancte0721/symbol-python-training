{
 "cells": [
  {
   "cell_type": "markdown",
   "id": "urban-roots",
   "metadata": {},
   "source": [
    "## ウォレット情報確認\n",
    "- https://docs.symbolplatform.com/symbol-openapi/v1.0.0/#operation/getAccountInfo"
   ]
  },
  {
   "cell_type": "code",
   "execution_count": 1,
   "id": "fourth-medline",
   "metadata": {},
   "outputs": [],
   "source": [
    "import urllib.request\n",
    "import json\n",
    "\n",
    "# パブリックネットで安定しているノードURL\n",
    "NODEURL = \"http://00fabf14.xym.stir-hosyu.com:3000\"\n",
    "# 確認対象ウォレットアドレス\n",
    "ADDRESS = \"NDLS6GYOIPHATATNAVVOUNJXBD6X4BXU6IRBHIY\""
   ]
  },
  {
   "cell_type": "code",
   "execution_count": 2,
   "id": "activated-playlist",
   "metadata": {},
   "outputs": [],
   "source": [
    "req = urllib.request.Request(NODEURL + '/accounts/' + ADDRESS)\n",
    "with urllib.request.urlopen(req) as res:\n",
    "    accountInfo = json.load(res)"
   ]
  },
  {
   "cell_type": "code",
   "execution_count": 3,
   "id": "emotional-criminal",
   "metadata": {},
   "outputs": [
    {
     "name": "stdout",
     "output_type": "stream",
     "text": [
      "{\n",
      "  \"account\": {\n",
      "    \"version\": 1,\n",
      "    \"address\": \"68D72F1B0E43CE09826D056AEA353708FD7E06F4F22213A3\",\n",
      "    \"addressHeight\": \"143022\",\n",
      "    \"publicKey\": \"5DB471481B3A39AC5CEEE949B64A577C0D5CA67176BE4462145CAD6ABD84CEBC\",\n",
      "    \"publicKeyHeight\": \"143146\",\n",
      "    \"accountType\": 1,\n",
      "    \"supplementalPublicKeys\": {\n",
      "      \"linked\": {\n",
      "        \"publicKey\": \"24120E20A7958457691D15200387F62EA5A3A0FE8349302F9D42C96FF2C233DC\"\n",
      "      },\n",
      "      \"vrf\": {\n",
      "        \"publicKey\": \"F7827E7465E72A19BD4169E2D26FC2B02E0DBE6674A4F77FD5999EA294D70A95\"\n",
      "      }\n",
      "    },\n",
      "    \"activityBuckets\": [],\n",
      "    \"mosaics\": [\n",
      "      {\n",
      "        \"id\": \"6BED913FA20223F8\",\n",
      "        \"amount\": \"79786493\"\n",
      "      }\n",
      "    ],\n",
      "    \"importance\": \"0\",\n",
      "    \"importanceHeight\": \"0\"\n",
      "  },\n",
      "  \"id\": \"609A55A52A6F02C06E5BB3C9\"\n",
      "}\n"
     ]
    }
   ],
   "source": [
    "# 内容全件表示\n",
    "print(json.dumps(accountInfo, indent=2))"
   ]
  },
  {
   "cell_type": "code",
   "execution_count": 4,
   "id": "dramatic-relationship",
   "metadata": {},
   "outputs": [
    {
     "name": "stdout",
     "output_type": "stream",
     "text": [
      "79.786493\n"
     ]
    }
   ],
   "source": [
    "# 保有XYM -> 可分性が6(小数点以下6桁)なので1000000倍した数値\n",
    "print(int(accountInfo['account']['mosaics'][0]['amount']) / 1000000)"
   ]
  },
  {
   "cell_type": "code",
   "execution_count": null,
   "id": "asian-assistant",
   "metadata": {},
   "outputs": [],
   "source": []
  }
 ],
 "metadata": {
  "kernelspec": {
   "display_name": "Python 3",
   "language": "python",
   "name": "python3"
  },
  "language_info": {
   "codemirror_mode": {
    "name": "ipython",
    "version": 3
   },
   "file_extension": ".py",
   "mimetype": "text/x-python",
   "name": "python",
   "nbconvert_exporter": "python",
   "pygments_lexer": "ipython3",
   "version": "3.7.10"
  }
 },
 "nbformat": 4,
 "nbformat_minor": 5
}
