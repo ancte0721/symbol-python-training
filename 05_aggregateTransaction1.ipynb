{
 "cells": [
  {
   "cell_type": "markdown",
   "id": "a77f26dc",
   "metadata": {},
   "source": [
    "# 複数のトランザクションを同時に送信\n",
    "## 概要\n",
    "- 秘密鍵を有しているウォレットから複数の送金トランザクションを同時に送信\n",
    "\n",
    "## 注意\n",
    "- 秘密鍵を公開してしまうとウォレットからモザイクが盗まれる可能性があるので、間違って公開してしまわないようにしましょう。"
   ]
  },
  {
   "cell_type": "code",
   "execution_count": 7,
   "id": "cad15eaf",
   "metadata": {},
   "outputs": [],
   "source": [
    "# 送信先アドレス、送金量、メッセージ（送金量は可分性が6なので1000000倍した数値を指定）\n",
    "TO_LIST = [\n",
    "    [\"TBMAGI3FR6ZFDXB5CHYTCE5EBKBSQP2CZPS7CGA\", 1 * 1000000, \"Hi Bob.\"],\n",
    "    [\"TAJEWDXCCMQLWTKVWDAX2EW7KS3L2NT6BOOIDSQ\", 2 * 1000000, \"Hi Alice.\"],\n",
    "    [\"TBQFD5L6OPJHHNJWCANKH6GG4GF3RRZOXNQ4KUA\", 3 * 1000000, \"こんにちは、太郎さん\"]\n",
    "]"
   ]
  },
  {
   "cell_type": "code",
   "execution_count": 8,
   "id": "bb92dbb3",
   "metadata": {},
   "outputs": [],
   "source": [
    "# 送信元\n",
    "FROM_PRIVATEKEY = \"270A5053FEDDAD47B05216D270A2F9E6DDCE74A8A16E8E3410022BDE011A3***\"\n",
    "\n",
    "# 最大手数料 (この例だと0.1枚)\n",
    "MAX_FEE = 1 * 100000\n",
    "\n",
    "# Symbol誕生のUTC秒 (メインネットは1615853185)\n",
    "BIRTHTIME = 1616694977\n",
    "\n",
    "# トランザクションの有効期限(単位はhour。この例だと2時間)\n",
    "EXP_TIME = 2\n",
    "\n",
    "# XYMのモザイクID (メインネットは0x6BED913FA20223F8)\n",
    "MOSAIC_ID = 0x091F837E059AE13C\n",
    "\n",
    "# トランザクションの送信先ノード\n",
    "NODEURL = \"http://sym-test-01.opening-line.jp:3000\""
   ]
  },
  {
   "cell_type": "code",
   "execution_count": 9,
   "id": "a9527cbd",
   "metadata": {},
   "outputs": [],
   "source": [
    "import datetime\n",
    "import urllib.request\n",
    "import json\n",
    "from binascii import unhexlify, hexlify\n",
    "from symbolchain.core.CryptoTypes import PrivateKey, Hash256\n",
    "from symbolchain.core.sym.KeyPair import KeyPair\n",
    "from symbolchain.core.facade.SymFacade import SymFacade\n",
    "from symbolchain.core.sym.MerkleHashBuilder import MerkleHashBuilder\n",
    "import sha3\n",
    "\n",
    "facade = SymFacade('public_test')\n",
    "keypair = KeyPair(PrivateKey(unhexlify(FROM_PRIVATEKEY)))"
   ]
  },
  {
   "cell_type": "code",
   "execution_count": 10,
   "id": "7f450a19",
   "metadata": {},
   "outputs": [
    {
     "name": "stdout",
     "output_type": "stream",
     "text": [
      "tx hash:CD321C0840D9DFCEE419A2D3C2281BFC818963F3C836F51CB47C0237E8E85DC0\n",
      "status code:202\n",
      "http://explorer.testnet.symboldev.network/transactions/CD321C0840D9DFCEE419A2D3C2281BFC818963F3C836F51CB47C0237E8E85DC0\n"
     ]
    }
   ],
   "source": [
    "# トランザクションのリスト作成\n",
    "tx_lst = []\n",
    "for item in TO_LIST:\n",
    "    tx = facade.transaction_factory.create_embedded({\n",
    "        'type': 'transfer',\n",
    "        'signer_public_key': keypair.public_key,\n",
    "        'recipient_address': SymFacade.Address(item[0]),\n",
    "        'mosaics': [(MOSAIC_ID, item[1])],\n",
    "        'message': item[2]\n",
    "    })\n",
    "    tx_lst.append(tx)\n",
    "\n",
    "# マークルハッシュの作成\n",
    "hash_builder = MerkleHashBuilder()\n",
    "for tx in tx_lst:\n",
    "    hash_builder.update(Hash256(sha3.sha3_256(tx.serialize()).digest()))\n",
    "merkle_hash = hash_builder.final()\n",
    "\n",
    "# アグリゲートトランザクションの有効期限\n",
    "deadline = (int((datetime.datetime.today() + datetime.timedelta(hours=EXP_TIME)).timestamp()) - BIRTHTIME) * 1000\n",
    "\n",
    "# アグリゲートコンプリートの作成\n",
    "aggregate = facade.transaction_factory.create({\n",
    "    'type': 'aggregateComplete',\n",
    "    'signer_public_key': keypair.public_key,\n",
    "    'fee': MAX_FEE,\n",
    "    'deadline': deadline,\n",
    "    'transactions_hash': merkle_hash,\n",
    "    'transactions': tx_lst\n",
    "})\n",
    "\n",
    "# 自己署名\n",
    "signature = facade.sign_transaction(keypair, aggregate)\n",
    "aggregate.signature = signature.bytes\n",
    "\n",
    "# アグリゲートトランザクションのハッシュ値\n",
    "tx_hash = facade.hash_transaction(aggregate)\n",
    "\n",
    "# ノードへアナウンス\n",
    "payload = {\"payload\": hexlify(aggregate.serialize()).decode('utf8').upper()}\n",
    "req = urllib.request.Request(NODEURL + \"/transactions\",\n",
    "                             json.dumps(payload).encode(),\n",
    "                             {'Content-type': 'application/json'},\n",
    "                             method='PUT')\n",
    "with urllib.request.urlopen(req) as res:\n",
    "    print(\"tx hash:\" + str(tx_hash))\n",
    "    print(\"status code:\" + str(res.getcode()))\n",
    "    print('http://explorer.testnet.symboldev.network/transactions/' + str(tx_hash))"
   ]
  },
  {
   "cell_type": "code",
   "execution_count": 11,
   "id": "2dc6e29c",
   "metadata": {},
   "outputs": [
    {
     "name": "stdout",
     "output_type": "stream",
     "text": [
      "{\n",
      "  \"group\": \"confirmed\",\n",
      "  \"code\": \"Success\",\n",
      "  \"hash\": \"CD321C0840D9DFCEE419A2D3C2281BFC818963F3C836F51CB47C0237E8E85DC0\",\n",
      "  \"deadline\": \"10698378000\",\n",
      "  \"height\": \"275528\"\n",
      "}\n"
     ]
    }
   ],
   "source": [
    "# 結果確認\n",
    "req = urllib.request.Request(NODEURL + \"/transactionStatus/\" + str(tx_hash))\n",
    "with urllib.request.urlopen(req) as res:\n",
    "    data = json.load(res)\n",
    "    print(json.dumps(data, indent=2))"
   ]
  },
  {
   "cell_type": "code",
   "execution_count": 22,
   "id": "2b910fe8",
   "metadata": {},
   "outputs": [
    {
     "name": "stdout",
     "output_type": "stream",
     "text": [
      "60FFF136A36C2904DF689E49\n",
      "60FFF089A36C2904DF689E35\n"
     ]
    }
   ],
   "source": [
    "# メッセージ確認対象のアドレス\n",
    "TO_ADDRESS = \"TBMAGI3FR6ZFDXB5CHYTCE5EBKBSQP2CZPS7CGA\"\n",
    "# トランザクションのタイプ(0x4141 (16705 decimal) - AggregateCompleteTransaction.)\n",
    "tx_type = 0x4141\n",
    "\n",
    "req = urllib.request.Request(NODEURL + '/accounts/' + TO_ADDRESS)\n",
    "with urllib.request.urlopen(req) as res:\n",
    "    accountInfo = json.load(res)\n",
    "ADDRESS48 = accountInfo['account']['address']\n",
    "\n",
    "url = NODEURL + '/transactions/confirmed'\n",
    "params = {\n",
    "    'address': TO_ADDRESS,\n",
    "    'type': tx_type,\n",
    "    'order': 'desc',\n",
    "}\n",
    "\n",
    "req = urllib.request.Request('{}?{}'.format(url, urllib.parse.urlencode(params)))\n",
    "with urllib.request.urlopen(req) as res:\n",
    "    data = json.load(res)\n",
    "\n",
    "for d in data['data']:\n",
    "    print(d['id'])"
   ]
  },
  {
   "cell_type": "code",
   "execution_count": 30,
   "id": "e11218e5",
   "metadata": {},
   "outputs": [
    {
     "name": "stdout",
     "output_type": "stream",
     "text": [
      "height:275528, 受信, 1.0xym, [Hi Bob.]\n"
     ]
    }
   ],
   "source": [
    "# トランザクションのタイプ(0x4154 (16724 decimal) - TransferTransaction.)\n",
    "tx_type = 0x4154\n",
    "# XYMのモザイクID(メインネットは6BED913FA20223F8)\n",
    "XYM_ID = '091F837E059AE13C'\n",
    "\n",
    "# 詳細を取得するアグリゲートトランザクションのid\n",
    "tx_ids = ['60FFF136A36C2904DF689E49']\n",
    "\n",
    "url = NODEURL + '/transactions/confirmed'\n",
    "params = {\n",
    "    'transactionIds': tx_ids\n",
    "}\n",
    "req = urllib.request.Request(url,\n",
    "                             json.dumps(params).encode(),\n",
    "                             {'Content-type': 'application/json'},\n",
    "                             method='POST')\n",
    "with urllib.request.urlopen(req) as res:\n",
    "    data = json.load(res)\n",
    "\n",
    "for d in data:\n",
    "    for tx in d['transaction']['transactions']:\n",
    "        # 自分宛の送金トランザクションのみ抽出\n",
    "        if tx['transaction']['type'] == tx_type and tx['transaction']['recipientAddress'] == ADDRESS48:\n",
    "            message = \"\"\n",
    "            if \"message\" in tx['transaction']:\n",
    "                message = tx['transaction']['message']\n",
    "            # XYMの受信のみ抽出\n",
    "            for mosaic in tx['transaction']['mosaics']:\n",
    "                if mosaic['id'] == XYM_ID:\n",
    "                    print(\"height:{}, {}, {}xym, [{}]\".format(tx['meta']['height'], '受信' , int(mosaic['amount'])/1000000, unhexlify(message).decode('utf-8')))\n",
    "    "
   ]
  },
  {
   "cell_type": "code",
   "execution_count": null,
   "id": "c8f7df7f",
   "metadata": {},
   "outputs": [],
   "source": []
  }
 ],
 "metadata": {
  "kernelspec": {
   "display_name": "Python 3",
   "language": "python",
   "name": "python3"
  },
  "language_info": {
   "codemirror_mode": {
    "name": "ipython",
    "version": 3
   },
   "file_extension": ".py",
   "mimetype": "text/x-python",
   "name": "python",
   "nbconvert_exporter": "python",
   "pygments_lexer": "ipython3",
   "version": "3.7.10"
  }
 },
 "nbformat": 4,
 "nbformat_minor": 5
}
