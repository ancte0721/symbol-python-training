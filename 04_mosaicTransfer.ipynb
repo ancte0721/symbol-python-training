{
 "cells": [
  {
   "cell_type": "markdown",
   "id": "b81d47fb",
   "metadata": {},
   "source": [
    "# モザイクの送金\n",
    "## 概要\n",
    "- 秘密鍵を有しているウォレットから任意のアドレスへの送金\n",
    "\n",
    "## 注意\n",
    "- 秘密鍵を公開してしまうとウォレットからモザイクが盗まれる可能性があるので、間違って公開してしまわないようにしましょう。"
   ]
  },
  {
   "cell_type": "code",
   "execution_count": 11,
   "id": "2cbd5ccd",
   "metadata": {},
   "outputs": [
    {
     "name": "stdout",
     "output_type": "stream",
     "text": [
      "privateKey:BE48D752961910610E3763D5F90538C0946CD95D6AC3DC8C7B1253879D******\n",
      "address:TAJEWDXCCMQLWTKVWDAX2EW7KS3L2NT6BOOIDSQ\n"
     ]
    }
   ],
   "source": [
    "# 秘密鍵とアドレスの生成\n",
    "# 既に秘密鍵が既知であるウォレットを使う場合は不要です\n",
    "from symbolchain.core.CryptoTypes import PrivateKey\n",
    "from symbolchain.core.sym.KeyPair import KeyPair\n",
    "from symbolchain.core.facade.SymFacade import SymFacade\n",
    "from binascii import hexlify\n",
    "\n",
    "facade = SymFacade('public_test')\n",
    "new_privatekey = PrivateKey.random()\n",
    "new_keypair = SymFacade.KeyPair(new_privatekey)\n",
    "new_publickey = new_keypair.public_key\n",
    "new_address = facade.network.public_key_to_address(new_publickey)\n",
    "\n",
    "print(\"privateKey:\" + str(new_privatekey))\n",
    "print(\"address:\" + str(new_address))"
   ]
  },
  {
   "cell_type": "code",
   "execution_count": 1,
   "id": "19b65f9f",
   "metadata": {},
   "outputs": [],
   "source": [
    "# 送信元\n",
    "FROM_PRIVATEKEY = \"BE48D752961910610E3763D5F90538C0946CD95D6AC3DC8C7B1253879D******\"\n",
    "# 送信先\n",
    "TO_ADDRESS = \"TBMAGI3FR6ZFDXB5CHYTCE5EBKBSQP2CZPS7CGA\"\n",
    "# 送金量 (可分性が6なので1000000倍した数値を指定。この例だと2枚)\n",
    "AMOUNT = 2000000\n",
    "# 最大手数料 (この例だと0.1枚)\n",
    "MAX_FEE = 100000\n",
    "# メッセージ\n",
    "MESSAGE = \"I love symbol. こんにちは\"\n",
    "# Symbol誕生のUTC秒 (メインネットは1615853185)\n",
    "BIRTHTIME = 1616694977\n",
    "# トランザクションの有効期限(単位はhour。この例だと2時間)\n",
    "EXP_TIME = 2\n",
    "# XYMのモザイクID (メインネットは0x6BED913FA20223F8)\n",
    "MOSAIC_ID = 0x091F837E059AE13C\n",
    "# トランザクションの送信先ノード\n",
    "NODEURL = \"http://sym-test-01.opening-line.jp:3000\""
   ]
  },
  {
   "cell_type": "code",
   "execution_count": 2,
   "id": "19337e78",
   "metadata": {},
   "outputs": [
    {
     "name": "stdout",
     "output_type": "stream",
     "text": [
      "tx hash:33FF21C6C86D519387D3669AB242CE0ADD6506DF4E6F5FDDAB03AF084DBCB257\n",
      "status code:202\n"
     ]
    }
   ],
   "source": [
    "import datetime\n",
    "import urllib.request\n",
    "import json\n",
    "from binascii import unhexlify, hexlify\n",
    "from symbolchain.core.CryptoTypes import PrivateKey\n",
    "from symbolchain.core.sym.KeyPair import KeyPair\n",
    "from symbolchain.core.facade.SymFacade import SymFacade\n",
    "\n",
    "facade = SymFacade('public_test')\n",
    "keypair = KeyPair(PrivateKey(unhexlify(FROM_PRIVATEKEY)))\n",
    "\n",
    "# トランザクションの有効期限\n",
    "deadline = (int((datetime.datetime.today() + datetime.timedelta(hours=EXP_TIME)).timestamp()) - BIRTHTIME) * 1000\n",
    "\n",
    "# トランザクション内容\n",
    "tx = facade.transaction_factory.create({\n",
    "  'type': 'transfer',\n",
    "  'signer_public_key': keypair.public_key,\n",
    "  'fee': MAX_FEE,\n",
    "  'deadline': deadline,\n",
    "  'recipient_address': SymFacade.Address(TO_ADDRESS),\n",
    "  'mosaics': [(MOSAIC_ID, AMOUNT)],\n",
    "  'message': MESSAGE\n",
    "})\n",
    "\n",
    "# トランザクションに署名\n",
    "signature = facade.sign_transaction(keypair, tx)\n",
    "tx.signature = signature.bytes\n",
    "tx_hash = facade.hash_transaction(tx)\n",
    "\n",
    "# ノードへアナウンス\n",
    "payload = {\"payload\": hexlify(tx.serialize()).decode('utf8').upper()}\n",
    "req = urllib.request.Request(NODEURL + \"/transactions\",\n",
    "                             json.dumps(payload).encode(),\n",
    "                             {'Content-type': 'application/json'},\n",
    "                             method='PUT')\n",
    "with urllib.request.urlopen(req) as res:\n",
    "    print(\"tx hash:\" + str(tx_hash))\n",
    "    print(\"status code:\" + str(res.getcode()))"
   ]
  },
  {
   "cell_type": "code",
   "execution_count": 5,
   "id": "171c2044",
   "metadata": {},
   "outputs": [
    {
     "name": "stdout",
     "output_type": "stream",
     "text": [
      "{\n",
      "  \"group\": \"confirmed\",\n",
      "  \"code\": \"Success\",\n",
      "  \"hash\": \"216C5629F9B10AB5C91673CBA221C61E22436731884FB1B2E3C13EC1C606DE43\",\n",
      "  \"deadline\": \"9998763000\",\n",
      "  \"height\": \"255648\"\n",
      "}\n"
     ]
    }
   ],
   "source": [
    "req = urllib.request.Request(NODEURL + \"/transactionStatus/\" + str(tx_hash))\n",
    "with urllib.request.urlopen(req) as res:\n",
    "    data = json.load(res)\n",
    "    print(json.dumps(data, indent=2))"
   ]
  },
  {
   "cell_type": "code",
   "execution_count": 6,
   "id": "37578f09",
   "metadata": {},
   "outputs": [
    {
     "name": "stdout",
     "output_type": "stream",
     "text": [
      "height:255648, 受信, 2.0xym, message[I love symbol. こんにちは]\n",
      "height:255642, 受信, 1.0xym, message[I love symbol. こんにちは]\n",
      "height:251422, 受信, 1.0xym, message[I love symbol.こんちゃす]\n",
      "height:251381, 受信, 1.0xym, message[I love symbol.]\n",
      "height:251373, 受信, 1.0xym, message[I love symbol.]\n",
      "height:248840, 送信, 1.0xym, message[hello]\n",
      "height:248824, 受信, 300.0xym, message[]\n"
     ]
    }
   ],
   "source": [
    "# メッセージ確認\n",
    "req = urllib.request.Request(NODEURL + '/accounts/' + TO_ADDRESS)\n",
    "with urllib.request.urlopen(req) as res:\n",
    "    accountInfo = json.load(res)\n",
    "ADDRESS48 = accountInfo['account']['address']\n",
    "\n",
    "url = NODEURL + '/transactions/confirmed'\n",
    "params = {\n",
    "    'address': TO_ADDRESS,\n",
    "    'order': 'desc',\n",
    "}\n",
    "\n",
    "req = urllib.request.Request('{}?{}'.format(url, urllib.parse.urlencode(params)))\n",
    "with urllib.request.urlopen(req) as res:\n",
    "    data = json.load(res)\n",
    "\n",
    "for d in data['data']:\n",
    "    mosaic = None\n",
    "    # モザイクの送受信があるか\n",
    "    if \"mosaics\" in d['transaction']:\n",
    "        for xym in d['transaction']['mosaics']:\n",
    "            message = \"\"\n",
    "            if \"message\" in d['transaction']:\n",
    "                message = d['transaction']['message']\n",
    "            \n",
    "            if xym['id'] == '091F837E059AE13C':\n",
    "                mosaic = xym['amount']\n",
    "            else:\n",
    "                continue\n",
    "            # 受け取り人が自分であるか\n",
    "            if d['transaction']['recipientAddress'] == ADDRESS48:\n",
    "                isRecipient = True\n",
    "            else:\n",
    "                isRecipient = False\n",
    "            print(\"height:{}, {}, {}xym, message[{}]\".format(d['meta']['height'], '受信' if isRecipient else \"送信\", int(mosaic)/1000000, unhexlify(message).decode('utf-8')))"
   ]
  },
  {
   "cell_type": "code",
   "execution_count": null,
   "id": "f7900bd5",
   "metadata": {},
   "outputs": [],
   "source": []
  }
 ],
 "metadata": {
  "kernelspec": {
   "display_name": "Python 3",
   "language": "python",
   "name": "python3"
  },
  "language_info": {
   "codemirror_mode": {
    "name": "ipython",
    "version": 3
   },
   "file_extension": ".py",
   "mimetype": "text/x-python",
   "name": "python",
   "nbconvert_exporter": "python",
   "pygments_lexer": "ipython3",
   "version": "3.7.10"
  }
 },
 "nbformat": 4,
 "nbformat_minor": 5
}
